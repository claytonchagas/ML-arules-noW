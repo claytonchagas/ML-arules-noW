{
 "cells": [
  {
   "cell_type": "code",
   "execution_count": 10,
   "metadata": {},
   "outputs": [
    {
     "name": "stdout",
     "output_type": "stream",
     "text": [
      "+------------------------+\n",
      "|items                   |\n",
      "+------------------------+\n",
      "|[r, z, h, k, p]         |\n",
      "|[z, y, x, w, v, u, t, s]|\n",
      "|[s, x, o, n, r]         |\n",
      "|[x, z, y, m, t, s, q, e]|\n",
      "|[z]                     |\n",
      "|[x, z, y, r, q, t, p]   |\n",
      "+------------------------+\n",
      "\n"
     ]
    }
   ],
   "source": [
    "from pyspark.ml.fpm import FPGrowth\n",
    "\n",
    "from pyspark.sql.functions import split\n",
    "\n",
    "from pyspark.sql import SparkSession\n",
    "\n",
    "spark = SparkSession\\\n",
    "    .builder\\\n",
    "    .appName(\"FPGrowthExample\")\\\n",
    "    .getOrCreate()\n",
    "\n",
    "data = (spark.read\n",
    "    .text(\"sample_fpgrowth.txt\")\n",
    "    .select(split(\"value\", \"\\s+\").alias(\"items\")))\n",
    "data.show(truncate=False)"
   ]
  },
  {
   "cell_type": "code",
   "execution_count": 11,
   "metadata": {},
   "outputs": [],
   "source": [
    "from pyspark.ml.fpm import FPGrowth"
   ]
  },
  {
   "cell_type": "code",
   "execution_count": 12,
   "metadata": {},
   "outputs": [],
   "source": [
    "fp = FPGrowth(minSupport=0.2, minConfidence=0.7)"
   ]
  },
  {
   "cell_type": "code",
   "execution_count": 17,
   "metadata": {},
   "outputs": [
    {
     "name": "stdout",
     "output_type": "stream",
     "text": [
      "+---------------+----+\n",
      "|          items|freq|\n",
      "+---------------+----+\n",
      "|            [s]|   3|\n",
      "|         [s, x]|   3|\n",
      "|      [s, x, z]|   2|\n",
      "|         [s, z]|   2|\n",
      "|            [r]|   3|\n",
      "|         [r, x]|   2|\n",
      "|         [r, z]|   2|\n",
      "|            [y]|   3|\n",
      "|         [y, s]|   2|\n",
      "|      [y, s, x]|   2|\n",
      "|   [y, s, x, z]|   2|\n",
      "|      [y, s, z]|   2|\n",
      "|         [y, x]|   3|\n",
      "|      [y, x, z]|   3|\n",
      "|         [y, t]|   3|\n",
      "|      [y, t, s]|   2|\n",
      "|   [y, t, s, x]|   2|\n",
      "|[y, t, s, x, z]|   2|\n",
      "|   [y, t, s, z]|   2|\n",
      "|      [y, t, x]|   3|\n",
      "+---------------+----+\n",
      "only showing top 20 rows\n",
      "\n"
     ]
    }
   ],
   "source": [
    "fpm = fp.fit(data)\n",
    "fpm.freqItemsets.show(20)"
   ]
  },
  {
   "cell_type": "code",
   "execution_count": 14,
   "metadata": {},
   "outputs": [
    {
     "name": "stdout",
     "output_type": "stream",
     "text": [
      "+----------+----------+----------+\n",
      "|antecedent|consequent|confidence|\n",
      "+----------+----------+----------+\n",
      "|    [t, s]|       [y]|       1.0|\n",
      "|    [t, s]|       [x]|       1.0|\n",
      "|    [t, s]|       [z]|       1.0|\n",
      "|       [p]|       [r]|       1.0|\n",
      "|       [p]|       [z]|       1.0|\n",
      "+----------+----------+----------+\n",
      "only showing top 5 rows\n",
      "\n"
     ]
    }
   ],
   "source": [
    "fpm.associationRules.show(5)"
   ]
  },
  {
   "cell_type": "code",
   "execution_count": 16,
   "metadata": {},
   "outputs": [
    {
     "data": {
      "text/plain": [
       "['x', 'y', 'z']"
      ]
     },
     "execution_count": 16,
     "metadata": {},
     "output_type": "execute_result"
    }
   ],
   "source": [
    "new_data = spark.createDataFrame([([\"t\", \"s\"], )], [\"items\"])\n",
    "sorted(fpm.transform(new_data).first().prediction)"
   ]
  }
 ],
 "metadata": {
  "kernelspec": {
   "display_name": "Python [conda root]",
   "language": "python",
   "name": "conda-root-py"
  },
  "language_info": {
   "codemirror_mode": {
    "name": "ipython",
    "version": 3
   },
   "file_extension": ".py",
   "mimetype": "text/x-python",
   "name": "python",
   "nbconvert_exporter": "python",
   "pygments_lexer": "ipython3",
   "version": "3.6.3"
  }
 },
 "nbformat": 4,
 "nbformat_minor": 2
}
